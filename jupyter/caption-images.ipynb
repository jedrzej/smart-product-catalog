{
 "cells": [
  {
   "cell_type": "code",
   "execution_count": null,
   "id": "ec1f8d3a-60a3-4bd3-a41d-419c464f6a9e",
   "metadata": {
    "scrolled": true
   },
   "outputs": [],
   "source": [
    "!python3 -m pip install python-dotenv requests gradio"
   ]
  },
  {
   "cell_type": "code",
   "execution_count": null,
   "id": "e308cc5f",
   "metadata": {},
   "outputs": [],
   "source": [
    "import sys\n",
    "sys.path.append(\"/Library/Frameworks/Python.framework/Versions/3.12/lib/python3.12/site-packages\")"
   ]
  },
  {
   "cell_type": "code",
   "execution_count": null,
   "id": "75712150-8df8-4d5a-92ff-9db9edd7e4a2",
   "metadata": {},
   "outputs": [],
   "source": [
    "from dotenv import find_dotenv, load_dotenv, dotenv_values\n",
    "load_dotenv()\n",
    "\n",
    "print(f\"Environment config found: {find_dotenv()}\\n\")\n",
    "print(f\"Environment variables:\\n{\"\\n\".join(list(map(lambda t: f\"{t[0]}={t[1]}\",dotenv_values().items())))}\")\n",
    "\n",
    "import warnings\n",
    "warnings.filterwarnings('ignore')\n"
   ]
  },
  {
   "cell_type": "code",
   "execution_count": null,
   "id": "fc70def6",
   "metadata": {},
   "outputs": [],
   "source": [
    "\n",
    "print(f\"Environment config found: {find_dotenv()}\\n\")\n",
    "print(f\"Environment variables:\\n{\"\\n\".join(list(map(lambda t: f\"{t[0]}={t[1]}\",dotenv_values().items())))}\")\n",
    "\n",
    "import warnings\n",
    "warnings.filterwarnings('ignore')\n"
   ]
  },
  {
   "cell_type": "code",
   "execution_count": null,
   "id": "0937c2b6",
   "metadata": {},
   "outputs": [],
   "source": [
    "import gradio as gr\n",
    "\n",
    "from images import caption_image\n",
    "\n",
    "with gr.Blocks() as demo:\n",
    "    gr.Markdown(\n",
    "        \"\"\"\n",
    "        # Caption images\n",
    "        \"\"\"\n",
    "    )\n",
    "\n",
    "    files = gr.Files(show_label=False, file_types=[\"image\"])\n",
    "\n",
    "    @gr.render(inputs=files)\n",
    "    def caption_images_wrapper(images):\n",
    "        if images is not None:\n",
    "            gr.ClearButton(components=[files])\n",
    "            \n",
    "            gr.Markdown(\n",
    "                \"\"\"\n",
    "                # Results\n",
    "                \"\"\"\n",
    "            )\n",
    "                    \n",
    "            for image in images:\n",
    "                try:\n",
    "                    caption = \", \".join(caption_image(image))\n",
    "                    with gr.Row():\n",
    "                        gr.Image(image, show_label=False, show_download_button=False)\n",
    "                        gr.Textbox(caption, label=\"Caption\")\n",
    "                except:\n",
    "                    raise gr.Error(\"Error processing image\")\n",
    "                \n",
    "            gr.ClearButton(components=[files])\n",
    "        \n",
    "demo.launch()"
   ]
  }
 ],
 "metadata": {
  "kernelspec": {
   "display_name": "Python 3 (ipykernel)",
   "language": "python",
   "name": "python3"
  },
  "language_info": {
   "codemirror_mode": {
    "name": "ipython",
    "version": 3
   },
   "file_extension": ".py",
   "mimetype": "text/x-python",
   "name": "python",
   "nbconvert_exporter": "python",
   "pygments_lexer": "ipython3",
   "version": "3.12.3"
  }
 },
 "nbformat": 4,
 "nbformat_minor": 5
}
