{
 "cells": [
  {
   "cell_type": "code",
   "execution_count": null,
   "id": "ec1f8d3a-60a3-4bd3-a41d-419c464f6a9e",
   "metadata": {
    "scrolled": true
   },
   "outputs": [],
   "source": [
    "#!python3 -m pip install python-dotenv "
   ]
  },
  {
   "cell_type": "code",
   "execution_count": null,
   "id": "e308cc5f",
   "metadata": {},
   "outputs": [],
   "source": [
    "import sys\n",
    "sys.path.append(\"/Library/Frameworks/Python.framework/Versions/3.12/lib/python3.12/site-packages\")"
   ]
  },
  {
   "cell_type": "code",
   "execution_count": null,
   "id": "75712150-8df8-4d5a-92ff-9db9edd7e4a2",
   "metadata": {},
   "outputs": [],
   "source": [
    "from dotenv import find_dotenv, load_dotenv, dotenv_values\n",
    "load_dotenv()\n",
    "\n",
    "print(f\"Environment config found: {find_dotenv()}\\n\")\n",
    "print(f\"Environment variables:\\n{\"\\n\".join(list(map(lambda t: f\"{t[0]}={t[1]}\",dotenv_values().items())))}\")\n",
    "\n",
    "import warnings\n",
    "warnings.filterwarnings('ignore')\n"
   ]
  }
 ],
 "metadata": {
  "kernelspec": {
   "display_name": "Python 3 (ipykernel)",
   "language": "python",
   "name": "python3"
  }
 },
 "nbformat": 4,
 "nbformat_minor": 5
}
